{
 "cells": [
  {
   "cell_type": "markdown",
   "metadata": {},
   "source": [
    "# 第2章: UNIXコマンドの基礎\n",
    "http://www.cl.ecei.tohoku.ac.jp/nlp100/\n",
    "hightemp.txtは，日本の最高気温の記録を「都道府県」「地点」「℃」「日」のタブ区切り形式で格納したファイルである．以下の処理を行うプログラムを作成し，hightemp.txtを入力ファイルとして実行せよ．さらに，同様の処理をUNIXコマンドでも実行し，プログラムの実行結果を確認せよ．"
   ]
  },
  {
   "cell_type": "code",
   "execution_count": 6,
   "metadata": {},
   "outputs": [
    {
     "ename": "SyntaxError",
     "evalue": "invalid syntax (<ipython-input-6-b3282c37e461>, line 3)",
     "output_type": "error",
     "traceback": [
      "\u001b[0;36m  File \u001b[0;32m\"<ipython-input-6-b3282c37e461>\"\u001b[0;36m, line \u001b[0;32m3\u001b[0m\n\u001b[0;31m    wget http://www.cl.ecei.tohoku.ac.jp/nlp100/data/hightemp.txt\u001b[0m\n\u001b[0m            ^\u001b[0m\n\u001b[0;31mSyntaxError\u001b[0m\u001b[0;31m:\u001b[0m invalid syntax\n"
     ]
    }
   ],
   "source": [
    "# 初期import\n",
    "doctest_mode\n",
    "wget http://www.cl.ecei.tohoku.ac.jp/nlp100/data/hightemp.txt"
   ]
  },
  {
   "cell_type": "code",
   "execution_count": 2,
   "metadata": {},
   "outputs": [
    {
     "name": "stdout",
     "output_type": "stream",
     "text": [
      "[Errno 2] No such file or directory: 'programing/python/nlp-100nock/src/'\n",
      "/Users/daichi/programing/python/nlp-100nock/src\n"
     ]
    }
   ],
   "source": [
    "cd programing/python/nlp-100nock/src/"
   ]
  },
  {
   "cell_type": "markdown",
   "metadata": {},
   "source": [
    "## 10. 行数のカウント\n",
    "行数をカウントせよ．確認にはwcコマンドを用いよ．"
   ]
  },
  {
   "cell_type": "code",
   "execution_count": 3,
   "metadata": {},
   "outputs": [
    {
     "name": "stdout",
     "output_type": "stream",
     "text": [
      "      24\r\n"
     ]
    }
   ],
   "source": [
    "cat hightemp.txt | wc -l"
   ]
  },
  {
   "cell_type": "code",
   "execution_count": 7,
   "metadata": {},
   "outputs": [
    {
     "name": "stdout",
     "output_type": "stream",
     "text": [
      "24\n"
     ]
    }
   ],
   "source": [
    "file = 'hightemp.txt'\n",
    "count = 0\n",
    "with open(file) as f:\n",
    "    for line in f:\n",
    "        count += 1\n",
    "print(count)"
   ]
  },
  {
   "cell_type": "markdown",
   "metadata": {},
   "source": [
    "## 11. タブをスペースに置換\n",
    "タブ1文字につきスペース1文字に置換せよ．確認にはsedコマンド，trコマンド，もしくはexpandコマンドを用いよ．"
   ]
  },
  {
   "cell_type": "code",
   "execution_count": 12,
   "metadata": {
    "collapsed": true
   },
   "outputs": [],
   "source": [
    "with open(file) as f:\n",
    "    for line in f:\n",
    "        line.replace('\\t', \" \")"
   ]
  },
  {
   "cell_type": "code",
   "execution_count": 13,
   "metadata": {
    "collapsed": true
   },
   "outputs": [],
   "source": [
    "#tr '\\t', ' ' < hightemp.txt"
   ]
  },
  {
   "cell_type": "markdown",
   "metadata": {},
   "source": [
    "## 12. 1列目をcol1.txtに，2列目をcol2.txtに保存\n",
    "各行の1列目だけを抜き出したものをcol1.txtに，2列目だけを抜き出したものをcol2.txtとしてファイルに保存せよ．確認にはcutコマンドを用いよ．"
   ]
  },
  {
   "cell_type": "code",
   "execution_count": 22,
   "metadata": {
    "collapsed": true
   },
   "outputs": [],
   "source": [
    "file = 'hightemp.txt'\n",
    "with open(file) as f, open('col1.txt', 'w') as col1_file, open('col2.txt', 'w') as col2_file:\n",
    "    for line in f:\n",
    "        cols = line.split('\\t')\n",
    "        col1_file.write(\"{}\\n\".format(cols[0]))\n",
    "        col2_file.write(\"{}\\n\".format(cols[1]))"
   ]
  },
  {
   "cell_type": "code",
   "execution_count": 34,
   "metadata": {
    "collapsed": true
   },
   "outputs": [],
   "source": [
    "#cut -f 1 < hightemp.txt\n",
    "#cut -f 2 < hightemp.txt"
   ]
  },
  {
   "cell_type": "markdown",
   "metadata": {},
   "source": [
    "## 13. col1.txtとcol2.txtをマージ\n",
    "12で作ったcol1.txtとcol2.txtを結合し，元のファイルの1列目と2列目をタブ区切りで並べたテキストファイルを作成せよ．確認にはpasteコマンドを用いよ．"
   ]
  },
  {
   "cell_type": "code",
   "execution_count": 35,
   "metadata": {},
   "outputs": [
    {
     "name": "stdout",
     "output_type": "stream",
     "text": [
      "\n"
     ]
    }
   ],
   "source": [
    "with open('col1.txt') as col1_file, open('col2.txt') as col2_file, open('merged_col.txt', 'w') as target:    \n",
    "    for col1, col2 in zip(col1_file, col2_file):\n",
    "        col1 = col1.replace('\\n', '')\n",
    "        col2 = col2.replace('\\n', '')\n",
    "        target.write(\"{}\\t{}\\n\".format(col1, col2))"
   ]
  },
  {
   "cell_type": "code",
   "execution_count": 36,
   "metadata": {
    "collapsed": true
   },
   "outputs": [],
   "source": [
    "# paste col1.txt col2.txt > tmp_merge.txt\n",
    "# diff --report-identical-files merge.txt merge_test.txt"
   ]
  },
  {
   "cell_type": "markdown",
   "metadata": {},
   "source": [
    "## 14. 先頭からN行を出力\n",
    "自然数Nをコマンドライン引数などの手段で受け取り，入力のうち先頭のN行だけを表示せよ．確認にはheadコマンドを用いよ．"
   ]
  },
  {
   "cell_type": "code",
   "execution_count": 32,
   "metadata": {},
   "outputs": [
    {
     "name": "stdout",
     "output_type": "stream",
     "text": [
      "行数 : 1\n",
      "高知県\t江川崎\t41\t2013-08-12\n"
     ]
    }
   ],
   "source": [
    "n = input(\"行数 : \")\n",
    "\n",
    "def head(n):\n",
    "    file = 'hightemp.txt'\n",
    "    with open(file) as f:\n",
    "        for max_num, line in enumerate(f):\n",
    "            if max_num >= int(n):\n",
    "                break\n",
    "            print(line.rstrip())\n",
    "            \n",
    "head(n)"
   ]
  },
  {
   "cell_type": "code",
   "execution_count": 16,
   "metadata": {
    "collapsed": true
   },
   "outputs": [],
   "source": [
    "# head -n 3 hightemp.txt"
   ]
  },
  {
   "cell_type": "markdown",
   "metadata": {},
   "source": [
    "## 15. 末尾のN行を出力\n",
    "自然数Nをコマンドライン引数などの手段で受け取り，入力のうち末尾のN行だけを表示せよ．確認にはtailコマンドを用いよ．"
   ]
  },
  {
   "cell_type": "code",
   "execution_count": 52,
   "metadata": {},
   "outputs": [
    {
     "name": "stdout",
     "output_type": "stream",
     "text": [
      "末尾のN行 : 5\n",
      "埼玉県\t鳩山\t39.9\t1997-07-05\n",
      "大阪府\t豊中\t39.9\t1994-08-08\n",
      "山梨県\t大月\t39.9\t1990-07-19\n",
      "山形県\t鶴岡\t39.9\t1978-08-03\n",
      "愛知県\t名古屋\t39.9\t1942-08-02\n"
     ]
    }
   ],
   "source": [
    "N = input(\"末尾のN行 : \")\n",
    "\n",
    "def tail(n):\n",
    "    file = 'hightemp.txt'\n",
    "    with open(file) as f:\n",
    "        lines = f.readlines()\n",
    "    for line in lines[-int(n):]:\n",
    "        print(line.rstrip())\n",
    "    \n",
    "tail(N)"
   ]
  },
  {
   "cell_type": "code",
   "execution_count": 53,
   "metadata": {
    "collapsed": true
   },
   "outputs": [],
   "source": [
    "# tail-n 3 hightemp.txt"
   ]
  },
  {
   "cell_type": "markdown",
   "metadata": {},
   "source": [
    "## 16. ファイルをN分割する\n",
    "自然数Nをコマンドライン引数などの手段で受け取り，入力のファイルを行単位でN分割せよ．同様の処理をsplitコマンドで実現せよ．"
   ]
  },
  {
   "cell_type": "code",
   "execution_count": 15,
   "metadata": {},
   "outputs": [
    {
     "name": "stdout",
     "output_type": "stream",
     "text": [
      "24\n",
      "1\n"
     ]
    }
   ],
   "source": [
    "import math\n",
    "\n",
    "N = int(input())\n",
    "file_name = 'hightemp.txt'\n",
    "\n",
    "def split_file_by_line(n, file_name):\n",
    "    with open(file_name) as f:\n",
    "        lines = f.readlines()\n",
    "        \n",
    "    num_lines = len(lines)\n",
    "    unit_devided = math.ceil(num_lines / n)\n",
    "    #print(unit_devided)\n",
    "    \n",
    "    for i, offset in enumerate(range(0, num_lines, unit_devided), 1):\n",
    "        with open(\"./output/2-16-{}.txt\".format(i), \"w\") as output_f:\n",
    "            for line in lines[offset:offset + unit_devided]:\n",
    "                output_f.write(line)\n",
    "    \n",
    "split_file_by_line(N, file_name)"
   ]
  },
  {
   "cell_type": "code",
   "execution_count": 16,
   "metadata": {
    "collapsed": true
   },
   "outputs": [],
   "source": [
    "# split -l 3 hightemp.txt"
   ]
  },
  {
   "cell_type": "markdown",
   "metadata": {},
   "source": [
    "## 17. １列目の文字列の異なり\n",
    "1列目の文字列の種類（異なる文字列の集合）を求めよ．確認にはsort, uniqコマンドを用いよ．"
   ]
  },
  {
   "cell_type": "code",
   "execution_count": 22,
   "metadata": {},
   "outputs": [
    {
     "data": {
      "text/plain": [
       "{'千葉県',\n",
       " '和歌山県',\n",
       " '埼玉県',\n",
       " '大阪府',\n",
       " '山形県',\n",
       " '山梨県',\n",
       " '岐阜県',\n",
       " '愛媛県',\n",
       " '愛知県',\n",
       " '群馬県',\n",
       " '静岡県',\n",
       " '高知県'}"
      ]
     },
     "execution_count": 22,
     "metadata": {},
     "output_type": "execute_result"
    }
   ],
   "source": [
    "file_name = \"hightemp.txt\"\n",
    "\n",
    "def set_of_different_character_strings_in_1st_columns(file_name):\n",
    "    with open(file_name, \"r\") as f:\n",
    "        set_column_1st = set()\n",
    "        for line in f:\n",
    "            cols = line.split('\\t')\n",
    "            set_column_1st.add(cols[0])\n",
    "\n",
    "        return set_column_1st\n",
    "set_of_different_character_strings_in_1st_columns(file_name)"
   ]
  },
  {
   "cell_type": "code",
   "execution_count": 23,
   "metadata": {
    "collapsed": true
   },
   "outputs": [],
   "source": [
    "# cut -f 1 hightemp.txt | sort | uniq"
   ]
  },
  {
   "cell_type": "markdown",
   "metadata": {},
   "source": [
    "## 18. 各行を3コラム目の数値の降順にソート\n",
    "各行を3コラム目の数値の逆順で整列せよ（注意: 各行の内容は変更せずに並び替えよ）．確認にはsortコマンドを用いよ（この問題はコマンドで実行した時の結果と合わなくてもよい）．\n",
    "つまり、気温順かな"
   ]
  },
  {
   "cell_type": "code",
   "execution_count": 41,
   "metadata": {},
   "outputs": [],
   "source": [
    "file_name = \"hightemp.txt\"\n",
    "with open(file_name, 'r') as f:\n",
    "    lines = f.readlines()\n",
    "    lines.sort(reverse=True, key=lambda line: float(line.split('\\t')[2]))\n",
    "    \n",
    "    with open(\"./output/2-18-output.txt\", \"w\") as output_f:\n",
    "        for line in lines:\n",
    "            output_f.write(line)"
   ]
  },
  {
   "cell_type": "code",
   "execution_count": 42,
   "metadata": {
    "collapsed": true
   },
   "outputs": [],
   "source": [
    "#sort hightemp.txt -k3r"
   ]
  },
  {
   "cell_type": "markdown",
   "metadata": {},
   "source": [
    "## 19. 各行の1コラム目の文字列の出現頻度を求め，出現頻度の高い順に並べる\n",
    "各行の1列目の文字列の出現頻度を求め，その高い順に並べて表示せよ．確認にはcut, uniq, sortコマンドを用いよ．"
   ]
  },
  {
   "cell_type": "code",
   "execution_count": 67,
   "metadata": {},
   "outputs": [
    {
     "data": {
      "text/plain": [
       "['埼玉県',\n",
       " '山形県',\n",
       " '山梨県',\n",
       " '群馬県',\n",
       " '岐阜県',\n",
       " '静岡県',\n",
       " '愛知県',\n",
       " '千葉県',\n",
       " '高知県',\n",
       " '和歌山県',\n",
       " '愛媛県',\n",
       " '大阪府']"
      ]
     },
     "execution_count": 67,
     "metadata": {},
     "output_type": "execute_result"
    }
   ],
   "source": [
    "file_name = \"hightemp.txt\"\n",
    "def sort_by_frequency_of_occurrence(file_name):\n",
    "    with open(file_name, \"r\") as f:\n",
    "        col1 = [line.split('\\t')[0] for line in f]\n",
    "\n",
    "        # 辞書型内包表記の練習せなあかんなあ\n",
    "        word_and_count = {}\n",
    "        for word in col1:\n",
    "            if word in word_and_count:\n",
    "                word_and_count[word] += 1\n",
    "            else:\n",
    "                word_and_count[word] = 1\n",
    "    \n",
    "        return [key for key, _ in sorted(word_and_count.items(), key=lambda x: -x[1])]\n",
    "sort_by_frequency_of_occurrence(file_name=file_name)"
   ]
  },
  {
   "cell_type": "code",
   "execution_count": 68,
   "metadata": {},
   "outputs": [],
   "source": [
    "# cut -f1 hightemp.txt | sort | uniq -c | sort -r"
   ]
  },
  {
   "cell_type": "code",
   "execution_count": null,
   "metadata": {
    "collapsed": true
   },
   "outputs": [],
   "source": []
  }
 ],
 "metadata": {
  "kernelspec": {
   "display_name": "Python 3",
   "language": "python",
   "name": "python3"
  },
  "language_info": {
   "codemirror_mode": {
    "name": "ipython",
    "version": 3
   },
   "file_extension": ".py",
   "mimetype": "text/x-python",
   "name": "python",
   "nbconvert_exporter": "python",
   "pygments_lexer": "ipython3",
   "version": "3.6.3"
  }
 },
 "nbformat": 4,
 "nbformat_minor": 2
}
