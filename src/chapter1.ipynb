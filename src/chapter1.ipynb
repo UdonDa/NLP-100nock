{
 "cells": [
  {
   "cell_type": "markdown",
   "metadata": {},
   "source": [
    "## 第１章 準備運動\n",
    "\n",
    "http://www.cl.ecei.tohoku.ac.jp/nlp100/"
   ]
  },
  {
   "cell_type": "code",
   "execution_count": 7,
   "metadata": {},
   "outputs": [],
   "source": [
    "## 初期　import\n",
    "import time\n",
    "def elapsed_time(start):\n",
    "    return time.time() - start"
   ]
  },
  {
   "cell_type": "markdown",
   "metadata": {},
   "source": [
    "## 00. 文字列の逆順\n",
    "文字列\"stressed\"の文字を逆に（末尾から先頭に向かって）並べた文字列を得よ．"
   ]
  },
  {
   "cell_type": "code",
   "execution_count": 8,
   "metadata": {},
   "outputs": [
    {
     "name": "stdout",
     "output_type": "stream",
     "text": [
      "desserts\n"
     ]
    }
   ],
   "source": [
    "s = \"stressed\"\n",
    "s = s[::-1]\n",
    "print(s)"
   ]
  },
  {
   "cell_type": "markdown",
   "metadata": {},
   "source": [
    "## 01. 「パタトクカシーー」\n",
    "「パタトクカシーー」という文字列の1,3,5,7文字目を取り出して連結した文字列を得よ．"
   ]
  },
  {
   "cell_type": "code",
   "execution_count": 9,
   "metadata": {},
   "outputs": [
    {
     "name": "stdout",
     "output_type": "stream",
     "text": [
      "パトカー\n"
     ]
    }
   ],
   "source": [
    "s = \"パタトクカシーー\"\n",
    "result = s[0:-1:2]\n",
    "\n",
    "print(result)"
   ]
  },
  {
   "cell_type": "markdown",
   "metadata": {},
   "source": [
    "## 02. 「パトカー」＋「タクシー」＝「パタトクカシーー」\n",
    "「パトカー」＋「タクシー」の文字を先頭から交互に連結して文字列「パタトクカシーー」を得よ．"
   ]
  },
  {
   "cell_type": "code",
   "execution_count": 10,
   "metadata": {},
   "outputs": [
    {
     "name": "stdout",
     "output_type": "stream",
     "text": [
      "パタトクカシーー\n",
      "0.00026488304138183594\n",
      "パタトクカシーー\n",
      "0.00010323524475097656\n"
     ]
    }
   ],
   "source": [
    "start = time.time()\n",
    "s1, s2, result = \"パトカー\", \"タクシー\", \"\"\n",
    "for a, b in zip(s1, s2):\n",
    "    result = result + a + b\n",
    "print(result)\n",
    "print(elapsed_time(start))\n",
    "\n",
    "start = time.time()\n",
    "# 別解\n",
    "print(\"\".join([a + b for a,b in zip(s1, s2)]))\n",
    "print(elapsed_time(start))"
   ]
  },
  {
   "cell_type": "markdown",
   "metadata": {},
   "source": [
    "## 03. 円周率\n",
    "\"Now I need a drink, alcoholic of course, after the heavy lectures involving quantum mechanics.\"という文を単語に分解し，各単語の（アルファベットの）文字数を先頭から出現順に並べたリストを作成せよ"
   ]
  },
  {
   "cell_type": "code",
   "execution_count": 11,
   "metadata": {},
   "outputs": [
    {
     "name": "stdout",
     "output_type": "stream",
     "text": [
      "[3, 1, 4, 1, 5, 9, 2, 6, 5, 3, 5, 8, 9, 7, 9]\n",
      "0.0002548694610595703\n"
     ]
    }
   ],
   "source": [
    "start = time.time()\n",
    "s = \"Now I need a drink, alcoholic of course, after the heavy lectures involving quantum mechanics.\"\n",
    "s = s.replace(\",\", \"\")\n",
    "s = s.replace(\".\", \"\")\n",
    "s = s.split(\" \")\n",
    "print([len(i) for i in s])\n",
    "print(elapsed_time(start))"
   ]
  },
  {
   "cell_type": "markdown",
   "metadata": {},
   "source": [
    "## 04. 元素記号\n",
    "\"Hi He Lied Because Boron Could Not Oxidize Fluorine. New Nations Might Also Sign Peace Security Clause. Arthur King Can.\"という文を単語に分解し，1, 5, 6, 7, 8, 9, 15, 16, 19番目の単語は先頭の1文字，それ以外の単語は先頭に2文字を取り出し，取り出した文字列から単語の位置（先頭から何番目の単語か）への連想配列（辞書型もしくはマップ型）を作成せよ．"
   ]
  },
  {
   "cell_type": "code",
   "execution_count": 12,
   "metadata": {},
   "outputs": [
    {
     "name": "stdout",
     "output_type": "stream",
     "text": [
      "{0: 'Hi', 1: 'H', 2: 'Li', 3: 'Be', 4: 'Bo', 5: 'C', 6: 'N', 7: 'O', 8: 'F', 9: 'N', 10: 'Na', 11: 'Mi', 12: 'Al', 13: 'Si', 14: 'Pe', 15: 'S', 16: 'C', 17: 'Ar', 18: 'Ki', 19: 'C'}\n",
      "0.0003521442413330078\n"
     ]
    }
   ],
   "source": [
    "s = \"Hi He Lied Because Boron Could Not Oxidize Fluorine. New Nations Might Also Sign Peace Security Clause. Arthur King Can.\"\n",
    "s = s.replace(\",\", \"\")\n",
    "s = s.replace(\".\", \"\")\n",
    "values = s.split(\" \")\n",
    "hit_num = [1, 5, 6, 7, 8, 9, 15, 16, 19]\n",
    "\n",
    "start = time.time()\n",
    "lis = {}\n",
    "for a, b in enumerate(values):\n",
    "    if a in hit_num:\n",
    "        lis[a] = values[a][0]\n",
    "    else:\n",
    "        lis[a] = values[a][:2]\n",
    "print(lis)\n",
    "print(elapsed_time(start))\n",
    "# TODO: 内包表記で書きたいけど、if挟まると見づらくね？"
   ]
  },
  {
   "cell_type": "markdown",
   "metadata": {},
   "source": [
    "## 05. n-gram\n",
    "与えられたシーケンス（文字列やリストなど）からn-gramを作る関数を作成せよ．この関数を用い，\"I am an NLPer\"という文から単語bi-gram，文字bi-gramを得よ．"
   ]
  },
  {
   "cell_type": "code",
   "execution_count": 13,
   "metadata": {},
   "outputs": [
    {
     "name": "stdout",
     "output_type": "stream",
     "text": [
      "['I ', ' a', 'am', 'm ', ' a', 'an', 'n ', ' N', 'NL', 'LP', 'Pe', 'er']\n",
      "[['I', 'am'], ['am', 'an'], ['an', 'NLPer']]\n",
      "0.06741786003112793\n"
     ]
    }
   ],
   "source": [
    "letter = \"I am an NLPer\"\n",
    "word = letter.split(\" \")\n",
    "\n",
    "def n_gram(values, n):\n",
    "    return [values[i:i + n] for i in range(len(values) -n + 1)]\n",
    "\n",
    "# 文字\n",
    "letters = n_gram(letter, 2)\n",
    "print(letters)\n",
    "# 単語\n",
    "words = n_gram(word, 2)\n",
    "print(words)\n",
    "print(elapsed_time(start))"
   ]
  },
  {
   "cell_type": "markdown",
   "metadata": {},
   "source": [
    "## 06. 集合\n",
    "\"paraparaparadise\"と\"paragraph\"に含まれる文字bi-gramの集合を，それぞれ, XとYとして求め，XとYの和集合，積集合，差集合を求めよ．さらに，'se'というbi-gramがXおよびYに含まれるかどうかを調べよ．"
   ]
  },
  {
   "cell_type": "code",
   "execution_count": 30,
   "metadata": {},
   "outputs": [
    {
     "name": "stdout",
     "output_type": "stream",
     "text": [
      "和集合 : {'ag', 'ph', 'ar', 'pa', 'is', 'gr', 'se', 'ra', 'ad', 'ap', 'di'}\n",
      "積集合 : {'ra', 'pa', 'ar', 'ap'}\n",
      "差集合 : {'di', 'is', 'ad', 'se'}\n",
      "\n",
      "Xに含まれるか : True\n",
      "Yに含まれるか : False\n"
     ]
    }
   ],
   "source": [
    "A = \"paraparaparadise\"\n",
    "B = \"paragraph\"\n",
    "C = \"se\"\n",
    "\n",
    "def n_gram(values, n):\n",
    "    return [values[i:i + n] for i in range(len(values) -n + 1)]\n",
    "\n",
    "\n",
    "X = set(n_gram('paraparaparadise', 2))\n",
    "Y = set(n_gram(B, 2))\n",
    "\n",
    "union = X | Y\n",
    "intersection = X & Y\n",
    "set_difference = X - Y\n",
    "\n",
    "print(\"和集合 : {}\\n積集合 : {}\\n差集合 : {}\\n\".format(union, intersection, set_difference))\n",
    "\n",
    "print(\"Xに含まれるか : {}\\nYに含まれるか : {}\".format('se' in X, 'se' in Y))"
   ]
  },
  {
   "cell_type": "markdown",
   "metadata": {},
   "source": [
    "## 07. テンプレートによる文生成\n",
    "引数x, y, zを受け取り「x時のyはz」という文字列を返す関数を実装せよ．さらに，x=12, y=\"気温\", z=22.4として，実行結果を確認せよ．"
   ]
  },
  {
   "cell_type": "code",
   "execution_count": null,
   "metadata": {},
   "outputs": [],
   "source": [
    "def get_index_by_time(time = x, y, z)"
   ]
  },
  {
   "cell_type": "code",
   "execution_count": null,
   "metadata": {},
   "outputs": [],
   "source": []
  },
  {
   "cell_type": "code",
   "execution_count": null,
   "metadata": {},
   "outputs": [],
   "source": []
  },
  {
   "cell_type": "code",
   "execution_count": null,
   "metadata": {},
   "outputs": [],
   "source": []
  },
  {
   "cell_type": "code",
   "execution_count": null,
   "metadata": {},
   "outputs": [],
   "source": []
  }
 ],
 "metadata": {
  "kernelspec": {
   "display_name": "Python 3",
   "language": "python",
   "name": "python3"
  },
  "language_info": {
   "codemirror_mode": {
    "name": "ipython",
    "version": 3
   },
   "file_extension": ".py",
   "mimetype": "text/x-python",
   "name": "python",
   "nbconvert_exporter": "python",
   "pygments_lexer": "ipython3",
   "version": "3.6.2"
  }
 },
 "nbformat": 4,
 "nbformat_minor": 2
}
