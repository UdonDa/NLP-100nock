{
 "cells": [
  {
   "cell_type": "markdown",
   "metadata": {},
   "source": [
    "## 第１章 準備運動\n",
    "\n",
    "http://www.cl.ecei.tohoku.ac.jp/nlp100/"
   ]
  },
  {
   "cell_type": "code",
   "execution_count": 2,
   "metadata": {},
   "outputs": [],
   "source": [
    "## 初期　import\n",
    "import time\n",
    "def elapsed_time(start):\n",
    "    return time.time() - start"
   ]
  },
  {
   "cell_type": "markdown",
   "metadata": {},
   "source": [
    "## 00. 文字列の逆順\n",
    "文字列\"stressed\"の文字を逆に（末尾から先頭に向かって）並べた文字列を得よ．"
   ]
  },
  {
   "cell_type": "code",
   "execution_count": 3,
   "metadata": {},
   "outputs": [
    {
     "name": "stdout",
     "output_type": "stream",
     "text": [
      "desserts\n"
     ]
    }
   ],
   "source": [
    "s = \"stressed\"\n",
    "s = s[::-1]\n",
    "print(s)"
   ]
  },
  {
   "cell_type": "markdown",
   "metadata": {},
   "source": [
    "## 01. 「パタトクカシーー」\n",
    "「パタトクカシーー」という文字列の1,3,5,7文字目を取り出して連結した文字列を得よ．"
   ]
  },
  {
   "cell_type": "code",
   "execution_count": 4,
   "metadata": {},
   "outputs": [
    {
     "name": "stdout",
     "output_type": "stream",
     "text": [
      "パトカー\n"
     ]
    }
   ],
   "source": [
    "s = \"パタトクカシーー\"\n",
    "result = s[0:-1:2]\n",
    "\n",
    "print(result)"
   ]
  },
  {
   "cell_type": "markdown",
   "metadata": {},
   "source": [
    "## 02. 「パトカー」＋「タクシー」＝「パタトクカシーー」\n",
    "「パトカー」＋「タクシー」の文字を先頭から交互に連結して文字列「パタトクカシーー」を得よ．"
   ]
  },
  {
   "cell_type": "code",
   "execution_count": 5,
   "metadata": {},
   "outputs": [
    {
     "name": "stdout",
     "output_type": "stream",
     "text": [
      "パタトクカシーー\n",
      "0.0003597736358642578\n",
      "パタトクカシーー\n",
      "0.0001289844512939453\n"
     ]
    }
   ],
   "source": [
    "start = time.time()\n",
    "s1, s2, result = \"パトカー\", \"タクシー\", \"\"\n",
    "for a, b in zip(s1, s2):\n",
    "    result = result + a + b\n",
    "print(result)\n",
    "print(elapsed_time(start))\n",
    "\n",
    "start = time.time()\n",
    "# 別解\n",
    "print(\"\".join([a + b for a,b in zip(s1, s2)]))\n",
    "print(elapsed_time(start))"
   ]
  },
  {
   "cell_type": "markdown",
   "metadata": {},
   "source": [
    "## 03. 円周率\n",
    "\"Now I need a drink, alcoholic of course, after the heavy lectures involving quantum mechanics.\"という文を単語に分解し，各単語の（アルファベットの）文字数を先頭から出現順に並べたリストを作成せよ"
   ]
  },
  {
   "cell_type": "code",
   "execution_count": 6,
   "metadata": {},
   "outputs": [
    {
     "name": "stdout",
     "output_type": "stream",
     "text": [
      "[3, 1, 4, 1, 5, 9, 2, 6, 5, 3, 5, 8, 9, 7, 9]\n",
      "0.0003998279571533203\n"
     ]
    }
   ],
   "source": [
    "start = time.time()\n",
    "s = \"Now I need a drink, alcoholic of course, after the heavy lectures involving quantum mechanics.\"\n",
    "s = s.replace(\",\", \"\")\n",
    "s = s.replace(\".\", \"\")\n",
    "s = s.split(\" \")\n",
    "print([len(i) for i in s])\n",
    "print(elapsed_time(start))"
   ]
  },
  {
   "cell_type": "markdown",
   "metadata": {},
   "source": [
    "## 04. 元素記号\n",
    "\"Hi He Lied Because Boron Could Not Oxidize Fluorine. New Nations Might Also Sign Peace Security Clause. Arthur King Can.\"という文を単語に分解し，1, 5, 6, 7, 8, 9, 15, 16, 19番目の単語は先頭の1文字，それ以外の単語は先頭に2文字を取り出し，取り出した文字列から単語の位置（先頭から何番目の単語か）への連想配列（辞書型もしくはマップ型）を作成せよ．"
   ]
  },
  {
   "cell_type": "code",
   "execution_count": 59,
   "metadata": {},
   "outputs": [
    {
     "name": "stdout",
     "output_type": "stream",
     "text": [
      "['Hi', 'He', 'Lied', 'Because', 'Boron', 'Could', 'Not', 'Oxidize', 'Fluorine', 'New', 'Nations', 'Might', 'Also', 'Sign', 'Peace', 'Security', 'Clause', 'Arthur', 'King', 'Can', '']\n",
      "{0: 'Hi', 1: 'H', 2: 'Li', 3: 'Be', 4: 'Bo', 5: 'C', 6: 'N', 7: 'O', 8: 'F', 9: 'N', 10: 'Na', 11: 'Mi', 12: 'Al', 13: 'Si', 14: 'Pe', 15: 'S', 16: 'C', 17: 'Ar', 18: 'Ki', 19: 'C', 20: ''}\n",
      "0.00017118453979492188\n"
     ]
    }
   ],
   "source": [
    "s = \"Hi He Lied Because Boron Could Not Oxidize Fluorine. New Nations Might Also Sign Peace Security Clause. Arthur King Can.\"\n",
    "s = s.replace(\",\", \"\")\n",
    "s = s.replace(\".\", \"\")\n",
    "values = s.split(\" \")\n",
    "print(values)\n",
    "hit_num = [1, 5, 6, 7, 8, 9, 15, 16, 19]\n",
    "\n",
    "start = time.time()\n",
    "lis = {}\n",
    "for a, b in enumerate(values):\n",
    "    if a in hit_num:\n",
    "        lis[a] = values[a][0]\n",
    "    else:\n",
    "        lis[a] = values[a][:2]\n",
    "print(lis)\n",
    "print(elapsed_time(start))\n",
    "# TODO: 内包表記で書きたいけど、if挟まると見づらくね？"
   ]
  },
  {
   "cell_type": "markdown",
   "metadata": {},
   "source": [
    "## 05. n-gram\n",
    "与えられたシーケンス（文字列やリストなど）からn-gramを作る関数を作成せよ．この関数を用い，\"I am an NLPer\"という文から単語bi-gram，文字bi-gramを得よ．"
   ]
  },
  {
   "cell_type": "code",
   "execution_count": 8,
   "metadata": {},
   "outputs": [
    {
     "name": "stdout",
     "output_type": "stream",
     "text": [
      "['I ', ' a', 'am', 'm ', ' a', 'an', 'n ', ' N', 'NL', 'LP', 'Pe', 'er']\n",
      "[['I', 'am'], ['am', 'an'], ['an', 'NLPer']]\n",
      "0.5643868446350098\n"
     ]
    }
   ],
   "source": [
    "letter = \"I am an NLPer\"\n",
    "word = letter.split(\" \")\n",
    "\n",
    "def n_gram(values, n):\n",
    "    return [values[i:i + n] for i in range(len(values) -n + 1)]\n",
    "\n",
    "# 文字\n",
    "letters = n_gram(letter, 2)\n",
    "print(letters)\n",
    "# 単語\n",
    "words = n_gram(word, 2)\n",
    "print(words)\n",
    "print(elapsed_time(start))"
   ]
  },
  {
   "cell_type": "markdown",
   "metadata": {},
   "source": [
    "## 06. 集合\n",
    "\"paraparaparadise\"と\"paragraph\"に含まれる文字bi-gramの集合を，それぞれ, XとYとして求め，XとYの和集合，積集合，差集合を求めよ．さらに，'se'というbi-gramがXおよびYに含まれるかどうかを調べよ．"
   ]
  },
  {
   "cell_type": "code",
   "execution_count": 9,
   "metadata": {},
   "outputs": [
    {
     "name": "stdout",
     "output_type": "stream",
     "text": [
      "和集合 : {'ph', 'ap', 'ar', 'is', 'ra', 'ag', 'di', 'pa', 'ad', 'gr', 'se'}\n",
      "積集合 : {'ap', 'ar', 'pa', 'ra'}\n",
      "差集合 : {'ad', 'is', 'di', 'se'}\n",
      "\n",
      "Xに含まれるか : True\n",
      "Yに含まれるか : False\n"
     ]
    }
   ],
   "source": [
    "A = \"paraparaparadise\"\n",
    "B = \"paragraph\"\n",
    "C = \"se\"\n",
    "\n",
    "def n_gram(values, n):\n",
    "    return [values[i:i + n] for i in range(len(values) -n + 1)]\n",
    "\n",
    "\n",
    "X = set(n_gram('paraparaparadise', 2))\n",
    "Y = set(n_gram(B, 2))\n",
    "\n",
    "union = X | Y\n",
    "intersection = X & Y\n",
    "set_difference = X - Y\n",
    "\n",
    "print(\"和集合 : {}\\n積集合 : {}\\n差集合 : {}\\n\".format(union, intersection, set_difference))\n",
    "\n",
    "print(\"Xに含まれるか : {}\\nYに含まれるか : {}\".format('se' in X, 'se' in Y))"
   ]
  },
  {
   "cell_type": "markdown",
   "metadata": {},
   "source": [
    "## 07. テンプレートによる文生成\n",
    "引数x, y, zを受け取り「x時のyはz」という文字列を返す関数を実装せよ．さらに，x=12, y=\"気温\", z=22.4として，実行結果を確認せよ．"
   ]
  },
  {
   "cell_type": "code",
   "execution_count": 10,
   "metadata": {},
   "outputs": [
    {
     "data": {
      "text/plain": [
       "'12時の気温は22.4'"
      ]
     },
     "execution_count": 10,
     "metadata": {},
     "output_type": "execute_result"
    }
   ],
   "source": [
    "def get_index_by_time(time, index, value):\n",
    "    return \"{}時の{}は{}\".format(time, index, value)\n",
    "\n",
    "get_index_by_time(12, \"気温\", 22.4)"
   ]
  },
  {
   "cell_type": "markdown",
   "metadata": {},
   "source": [
    "## 08. 暗号文\n",
    "与えられた文字列の各文字を，以下の仕様で変換する関数cipherを実装せよ．\n",
    "\n",
    "英小文字ならば(219 - 文字コード)の文字に置換\n",
    "その他の文字はそのまま出力\n",
    "この関数を用い，英語のメッセージを暗号化・復号化せよ．"
   ]
  },
  {
   "cell_type": "code",
   "execution_count": 46,
   "metadata": {},
   "outputs": [],
   "source": [
    "import re\n",
    "regex = re.compile(u\"[a-z]\")\n",
    "def ciper(string):\n",
    "    return \"\".join(chr(219-ord(char))  if regex.match(char) else char for char in string)"
   ]
  },
  {
   "cell_type": "code",
   "execution_count": 47,
   "metadata": {},
   "outputs": [
    {
     "data": {
      "text/plain": [
       "'Hvool dliow!'"
      ]
     },
     "execution_count": 47,
     "metadata": {},
     "output_type": "execute_result"
    }
   ],
   "source": [
    "ciper(\"Hello world!\")"
   ]
  },
  {
   "cell_type": "markdown",
   "metadata": {},
   "source": [
    "## 09. Typoglycemia\n",
    "スペースで区切られた単語列に対して，各単語の先頭と末尾の文字は残し，それ以外の文字の順序をランダムに並び替えるプログラムを作成せよ．ただし，長さが４以下の単語は並び替えないこととする．適当な英語の文（例えば\"I couldn't believe that I could actually understand what I was reading : the phenomenal power of the human mind .\"）を与え，その実行結果を確認せよ．\n",
    "\n"
   ]
  },
  {
   "cell_type": "code",
   "execution_count": 261,
   "metadata": {},
   "outputs": [],
   "source": [
    "import random\n",
    "\n",
    "s = \"I couldn't believe that I could actually understand what I \\\n",
    "was reading : the phenomenal power of the human mind .\"\n",
    "\n",
    "def typoglycemia(s):\n",
    "    s = s.split(\" \")\n",
    "    s_foremost, s_end = s[0], s[-1]\n",
    "    del s[0]\n",
    "    del s[-1]\n",
    "\n",
    "    result = [char for char in s  if len(char) > 4 ]\n",
    "\n",
    "    b = {}\n",
    "    for i, char in enumerate(s):\n",
    "        if len(char) <= 4:\n",
    "            b[i] = char\n",
    "\n",
    "    random.shuffle(result)\n",
    "    result.append(s_end)\n",
    "    result.insert(0, s_foremost)\n",
    "\n",
    "    for key, value in b.items():\n",
    "        result.insert(key, value)\n",
    "\n",
    "    return result\n",
    "\n",
    "#なんだこのゴミコードwwwwっw\n",
    "#多分１０分睨んだらもっとリファクタリングできる"
   ]
  },
  {
   "cell_type": "code",
   "execution_count": null,
   "metadata": {},
   "outputs": [],
   "source": []
  },
  {
   "cell_type": "code",
   "execution_count": null,
   "metadata": {},
   "outputs": [],
   "source": [
    "\n"
   ]
  },
  {
   "cell_type": "code",
   "execution_count": null,
   "metadata": {},
   "outputs": [],
   "source": []
  }
 ],
 "metadata": {
  "kernelspec": {
   "display_name": "Python 3",
   "language": "python",
   "name": "python3"
  },
  "language_info": {
   "codemirror_mode": {
    "name": "ipython",
    "version": 3
   },
   "file_extension": ".py",
   "mimetype": "text/x-python",
   "name": "python",
   "nbconvert_exporter": "python",
   "pygments_lexer": "ipython3",
   "version": "3.6.2"
  }
 },
 "nbformat": 4,
 "nbformat_minor": 2
}
